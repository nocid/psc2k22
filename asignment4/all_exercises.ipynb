{
 "cells": [
  {
   "cell_type": "code",
   "execution_count": 8,
   "metadata": {},
   "outputs": [
    {
     "name": "stdout",
     "output_type": "stream",
     "text": [
      "7334743797805\n"
     ]
    }
   ],
   "source": [
    "#fib\n",
    "\n",
    "inpt = [int(item) for item in input().split(' ')]\n",
    "n = inpt[0]\n",
    "k = inpt[1]\n",
    "\n",
    "#create fib recurrence function\n",
    "def fib(n_1,n_2, litter):\n",
    "    F = n_1 + (n_2*litter)\n",
    "    return F\n",
    "\n",
    "sequence = [1, 1]\n",
    "\n",
    "#loop the function to get the last item of the sequence which is the sum of all rabbits present at n\n",
    "for x in range(2, n):\n",
    "    F = fib(sequence[x-1], sequence[x-2], k)\n",
    "    sequence.append(F)\n",
    "\n",
    "print(sequence[-1])\n"
   ]
  },
  {
   "cell_type": "code",
   "execution_count": 9,
   "metadata": {},
   "outputs": [
    {
     "name": "stdout",
     "output_type": "stream",
     "text": [
      "496\n"
     ]
    }
   ],
   "source": [
    "#hamm\n",
    "\n",
    "#create hammd def\n",
    "def hammdistance(s, t):\n",
    "    hammdist = 0\n",
    "    for x in range(len(s)):\n",
    "        if s[x] != t[x]:\n",
    "            hammdist += 1\n",
    "    return hammdist\n",
    "\n",
    "#get input and pass it through the function\n",
    "with open('/Users/nocide51/Projects_Coding/psc2k22/asignment4/sequences/rosalind_hamm.txt', 'r') as f:\n",
    "    inpt = f.read().splitlines()\n",
    "    s = inpt[0]\n",
    "    t = inpt[1]\n",
    "    print(hammdistance(s, t))"
   ]
  }
 ],
 "metadata": {
  "kernelspec": {
   "display_name": "Python 3.10.0 64-bit",
   "language": "python",
   "name": "python3"
  },
  "language_info": {
   "codemirror_mode": {
    "name": "ipython",
    "version": 3
   },
   "file_extension": ".py",
   "mimetype": "text/x-python",
   "name": "python",
   "nbconvert_exporter": "python",
   "pygments_lexer": "ipython3",
   "version": "3.10.0"
  },
  "orig_nbformat": 4,
  "vscode": {
   "interpreter": {
    "hash": "aee8b7b246df8f9039afb4144a1f6fd8d2ca17a180786b69acc140d282b71a49"
   }
  }
 },
 "nbformat": 4,
 "nbformat_minor": 2
}

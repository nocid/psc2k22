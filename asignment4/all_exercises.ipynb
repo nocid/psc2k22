{
 "cells": [
  {
   "cell_type": "code",
   "execution_count": 8,
   "metadata": {},
   "outputs": [
    {
     "name": "stdout",
     "output_type": "stream",
     "text": [
      "7334743797805\n"
     ]
    }
   ],
   "source": [
    "#fib\n",
    "\n",
    "inpt = [int(item) for item in input().split(' ')]\n",
    "n = inpt[0]\n",
    "k = inpt[1]\n",
    "\n",
    "#create fib recurrence function\n",
    "def fib(n_1,n_2, litter):\n",
    "    F = n_1 + (n_2*litter)\n",
    "    return F\n",
    "\n",
    "sequence = [1, 1]\n",
    "\n",
    "#loop the function to get the last item of the sequence which is the sum of all rabbits present at n\n",
    "for x in range(2, n):\n",
    "    F = fib(sequence[x-1], sequence[x-2], k)\n",
    "    sequence.append(F)\n",
    "\n",
    "print(sequence[-1])\n"
   ]
  },
  {
   "cell_type": "code",
   "execution_count": 9,
   "metadata": {},
   "outputs": [
    {
     "name": "stdout",
     "output_type": "stream",
     "text": [
      "496\n"
     ]
    }
   ],
   "source": [
    "#hamm\n",
    "\n",
    "#create hammd def\n",
    "def hammdistance(s, t):\n",
    "    hammdist = 0\n",
    "    for x in range(len(s)):\n",
    "        if s[x] != t[x]:\n",
    "            hammdist += 1\n",
    "    return hammdist\n",
    "\n",
    "#get input and pass it through the function\n",
    "with open('/Users/nocide51/Projects_Coding/psc2k22/asignment4/sequences/rosalind_hamm.txt', 'r') as f:\n",
    "    inpt = f.read().splitlines()\n",
    "    s = inpt[0]\n",
    "    t = inpt[1]\n",
    "    print(hammdistance(s, t))"
   ]
  },
  {
   "cell_type": "code",
   "execution_count": 39,
   "metadata": {},
   "outputs": [
    {
     "name": "stdout",
     "output_type": "stream",
     "text": [
      "12006358557899958370\n"
     ]
    }
   ],
   "source": [
    "#fibd\n",
    "\n",
    "\n",
    "memo = [1, 1]\n",
    "def fibonacciVal(n, m):\n",
    "    months = 2\n",
    "    while months < n:                                                              \n",
    "        if months < m:                                                             \n",
    "            memo.append(memo[-2] + memo[-1])                              \n",
    "        elif months == m:                                        \n",
    "            memo.append(memo[-2] + memo[-1] - 1)                          \n",
    "        else:                                                                      \n",
    "            memo.append(memo[-2] + memo[-1] - memo[-(m + 1)])                                                           \n",
    "        months += 1        \n",
    "    return memo[-1]\n",
    "\n",
    "\n",
    "inpt = [int(item) for item in input().split(' ')]\n",
    "n = inpt[0] #number of months\n",
    "m = inpt[1] #number of months a rabbit lives\n",
    "\n",
    "\n",
    "print(fibonacciVal(n, m))\n",
    "#print(memo)"
   ]
  },
  {
   "cell_type": "code",
   "execution_count": 3,
   "metadata": {},
   "outputs": [],
   "source": [
    "#prot\n",
    "\n",
    "from Bio.Seq import Seq\n",
    "\n",
    "with open('/Users/nocide51/Projects_Coding/psc2k22/asignment4/sequences/rosalind_prot.txt', 'r') as f:\n",
    "    mrna = f.read()\n",
    "    mrna = Seq(mrna)\n",
    "    prot = mrna.translate()\n",
    "    prot = str(prot)\n",
    "    output = open('/Users/nocide51/Projects_Coding/psc2k22/asignment4/sequences/rosalind_prot_output.txt', 'w+')\n",
    "    output.write(prot)"
   ]
  },
  {
   "cell_type": "code",
   "execution_count": 25,
   "metadata": {},
   "outputs": [
    {
     "name": "stdout",
     "output_type": "stream",
     "text": [
      "794048\n"
     ]
    }
   ],
   "source": [
    "#mrna\n",
    "from Bio.Seq import Seq\n",
    "\n",
    "def poss(aa):\n",
    "    numcomb = {'F':2, 'L':6, 'S':6, 'Y':2, 'C':2, 'W':1, 'P':4, 'H':2, 'Q':2, 'R':6, 'I':3, 'M':1,'T':4, 'N':2, 'K':2, 'V':4, 'A':4, 'D':2, 'E':2, 'G':4}\n",
    "    possibilities = 1\n",
    "    for x in aa:\n",
    "            possibilities *= numcomb[x]\n",
    "    possibilities *= 3\n",
    "    return possibilities % 1000000\n",
    "                                    \n",
    "\n",
    "with open('/Users/nocide51/Projects_Coding/psc2k22/asignment4/sequences/rosalind_mrna.txt', 'r') as f:\n",
    "    aa = f.read().rstrip()\n",
    "    print(poss(aa))\n",
    "    \n",
    "    \n",
    "\n"
   ]
  }
 ],
 "metadata": {
  "kernelspec": {
   "display_name": "Python 3.10.8 ('bioinformatics')",
   "language": "python",
   "name": "python3"
  },
  "language_info": {
   "codemirror_mode": {
    "name": "ipython",
    "version": 3
   },
   "file_extension": ".py",
   "mimetype": "text/x-python",
   "name": "python",
   "nbconvert_exporter": "python",
   "pygments_lexer": "ipython3",
   "version": "3.10.8"
  },
  "orig_nbformat": 4,
  "vscode": {
   "interpreter": {
    "hash": "fee94040681bba65a2a9b072a34f3035c29fcc436a8139ce1c49f0a1ccfba704"
   }
  }
 },
 "nbformat": 4,
 "nbformat_minor": 2
}

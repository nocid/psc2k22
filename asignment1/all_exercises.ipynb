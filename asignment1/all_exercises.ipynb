{
 "cells": [
  {
   "cell_type": "markdown",
   "metadata": {},
   "source": [
    "Collection exercises:\n",
    "1- Collection counter\n",
    "2- Collection ordereddic\n",
    "3- Collection Deque\n",
    "4- Collection named tuple"
   ]
  },
  {
   "cell_type": "code",
   "execution_count": null,
   "metadata": {},
   "outputs": [],
   "source": [
    "#Collection counter\n",
    "\n",
    "#https://www.hackerrank.com/challenges/collections-counter/problem?isFullScreen=true\n",
    "\n",
    "from collections import Counter\n",
    "numshoes = int(input())\n",
    "shoesizes = input().split(' ')\n",
    "shoesizes = list(map(int, shoesizes))\n",
    "countersize = Counter(shoesizes)\n",
    "numcustom = input()\n",
    "salary = 0\n",
    "for x in input():\n",
    "    demande = input().split(' ')\n",
    "    demande = list(map(int, demande))\n",
    "    if demande[0] in countersize.keys():\n",
    "        countersize[demande[0]] -= 1\n",
    "        salary += demande[1]\n",
    "print(salary)\n",
    "\n"
   ]
  },
  {
   "cell_type": "code",
   "execution_count": null,
   "metadata": {},
   "outputs": [],
   "source": [
    "#2- Collection ordereddic \n",
    "\n",
    "#https://www.hackerrank.com/challenges/py-collections-ordereddict/problem?isFullScreen=true\n",
    "\n",
    "from collections import OrderedDict\n",
    "numitems = int(input())\n",
    "orddic = {}\n",
    "orddic = OrderedDict()\n",
    "for a in range(numitems):\n",
    "    items = input().split()\n",
    "    price = int(items[-1])\n",
    "    key = ' '.join(map(str, items[0:-1]))\n",
    "    if key in orddic:\n",
    "        orddic[key] += price\n",
    "    else:\n",
    "        orddic[key] = price\n",
    "for word in orddic:\n",
    "    print(word, orddic[word]) "
   ]
  },
  {
   "cell_type": "code",
   "execution_count": null,
   "metadata": {},
   "outputs": [],
   "source": [
    "#3- Collection deque\n",
    "\n",
    "#https://www.hackerrank.com/challenges/py-collections-deque/problem?isFullScreen=true\n",
    "\n",
    "from collections import deque\n",
    "d = deque()\n",
    "for cmd in range(int(input())):\n",
    "    command = input().split()\n",
    "    if command[0]=='pop':\n",
    "        d.pop()\n",
    "    elif command[0]=='append':\n",
    "        d.append(int(command[1]))\n",
    "    elif command[0]=='popleft':\n",
    "        d.popleft()\n",
    "    elif command[0]=='appendleft':\n",
    "        d.appendleft(int(command[1]))\n",
    "print(*d)"
   ]
  },
  {
   "cell_type": "code",
   "execution_count": null,
   "metadata": {},
   "outputs": [],
   "source": [
    "#4- Collection named tuples\n",
    "\n",
    "#ttps://www.hackerrank.com/challenges/py-collections-namedtuple/problem\n",
    "\n",
    "from collections import namedtuple\n",
    "num = int(input())\n",
    "resume = namedtuple('resume', ','.join(input().split()))\n",
    "sum_marks = sum([int(resume(*(input().split())).MARKS) for _ in range(num) ])\n",
    "sumall = round((sum_marks/num),2)\n",
    "print(sumall)"
   ]
  },
  {
   "cell_type": "markdown",
   "metadata": {},
   "source": [
    "Basic data types\n",
    "\n",
    "1- Find the runner up\n",
    "2- Finding the percentage\n",
    "3- List comprehensions\n",
    "4- Lists\n",
    "5- Nested lists"
   ]
  },
  {
   "cell_type": "code",
   "execution_count": null,
   "metadata": {},
   "outputs": [],
   "source": [
    "#1- Find the runner up\n",
    "\n",
    "#https://www.hackerrank.com/challenges/find-second-maximum-number-in-a-list/problem?isFullScreen=true\n",
    "\n",
    "if __name__ == '__main__':\n",
    "    n = int(input())\n",
    "    arr = map(int, input().split())\n",
    " \n",
    "arr = list(arr)\n",
    "print(max([a for a in arr if a!=max(arr)]))\n"
   ]
  },
  {
   "cell_type": "code",
   "execution_count": null,
   "metadata": {},
   "outputs": [],
   "source": [
    "#2- Finding the percentage\n",
    "\n",
    "#https://www.hackerrank.com/challenges/finding-the-percentage/problem?isFullScreen=true\n",
    "\n",
    "if __name__ == '__main__':\n",
    "    n = int(input())\n",
    "    student_marks = {}\n",
    "    for _ in range(n):\n",
    "        name, *line = input().split()\n",
    "        scores = list(map(float, line))\n",
    "        student_marks[name] = scores\n",
    "    query_name = input()\n",
    "    \n",
    "from statistics import mean\n",
    "for key in student_marks:\n",
    "    if query_name == key:\n",
    "        listx = student_marks[key]\n",
    "        avrg = mean(listx)\n",
    "        avrgrn = \"{:.2f}\".format(avrg)\n",
    "        print(avrgrn)"
   ]
  },
  {
   "cell_type": "code",
   "execution_count": null,
   "metadata": {},
   "outputs": [],
   "source": [
    "#3- List comprehensions\n",
    "\n",
    "#https://www.hackerrank.com/challenges/list-comprehensions/problem?isFullScreen=true\n",
    "\n",
    "if __name__ == '__main__':\n",
    "    x = int(input())\n",
    "    y = int(input())\n",
    "    z = int(input())\n",
    "    n = int(input())\n",
    " \n",
    "\n",
    "listx = [ [i, j, k] for i in range(x+1) for j in range(y+1) for k in range(z+1) if sum([i, j, k]) != n   ]\n",
    "print(listx)"
   ]
  },
  {
   "cell_type": "code",
   "execution_count": null,
   "metadata": {},
   "outputs": [],
   "source": [
    "#4- Lists\n",
    "\n",
    "#https://www.hackerrank.com/challenges/python-lists/problem?isFullScreen=true\n",
    "\n",
    "if __name__ == '__main__':\n",
    "    N = int(input())\n",
    "    lst = []\n",
    "    for _ in range(N):\n",
    "        command = input().strip().split()\n",
    "        if command[0] == 'insert':\n",
    "            lst.insert(int(command[1]), int(command[2]))\n",
    "        elif command[0] == 'append':\n",
    "            lst.append(int(command[1]))\n",
    "        elif command[0] == 'remove':\n",
    "            lst.remove(int(command[1]))\n",
    "        elif command[0] == 'pop':\n",
    "            lst.pop()\n",
    "        elif command[0] == 'sort':\n",
    "            lst.sort()\n",
    "        elif command[0] == 'reverse':\n",
    "            lst.reverse()\n",
    "        else:\n",
    "            print(lst)"
   ]
  },
  {
   "cell_type": "code",
   "execution_count": null,
   "metadata": {},
   "outputs": [],
   "source": [
    "#5- Nested lists\n",
    "\n",
    "#https://www.hackerrank.com/challenges/nested-list/problem?isFullScreen=true\n",
    "\n",
    "if __name__ == '__main__':\n",
    "    nested_list = []\n",
    "    scores = []\n",
    "    for _ in range(int(input())):\n",
    "        name = input()\n",
    "        score = float(input())\n",
    "        nested_list.append([name, score])\n",
    "        scores.append(score)\n",
    "        \n",
    "scores.sort()\n",
    "x = scores[0]\n",
    "a = scores.count(x)\n",
    "x_value = scores[a]\n",
    "\n",
    "nest_dic = dict(nested_list)\n",
    "for key, value in sorted(nest_dic.items()):\n",
    "     if value == x_value :\n",
    "         print(key)"
   ]
  },
  {
   "cell_type": "markdown",
   "metadata": {},
   "source": [
    "Itertools 4 exercises\n",
    "\n",
    "1- Itertools combinations\n",
    "2- Itertools permutations\n",
    "3- Itertools products\n",
    "4- Itertools replacement"
   ]
  },
  {
   "cell_type": "code",
   "execution_count": null,
   "metadata": {},
   "outputs": [],
   "source": [
    "#1- Itertools combinations\n",
    "\n",
    "#https://www.hackerrank.com/challenges/itertools-combinations/problem?isFullScreen=true\n",
    "\n",
    "from itertools import combinations\n",
    "inp = input().split(' ')\n",
    "tobecomb = sorted(inp[0])\n",
    "tobecombf = ''.join(tobecomb)\n",
    "counter = 1\n",
    "for x in range(int(inp[1])):\n",
    "    result = list(combinations(tobecombf, counter))\n",
    "    counter += 1\n",
    "    for x in result:\n",
    "        perm = ''.join(x)\n",
    "        print(perm)"
   ]
  },
  {
   "cell_type": "code",
   "execution_count": null,
   "metadata": {},
   "outputs": [],
   "source": [
    "#2- Itertools permutations\n",
    "\n",
    "#https://www.hackerrank.com/challenges/itertools-permutations/problem?isFullScreen=true\n",
    "\n",
    "from itertools import permutations \n",
    "enter = input()\n",
    "enter = enter.split(' ')\n",
    "sortedl = sorted(enter[0])\n",
    "sortedtoperm = ''.join(sortedl)\n",
    "result = list(permutations(sortedtoperm, int(enter[1])))\n",
    "for x in result:\n",
    "    perm = ''.join(x)\n",
    "    print(perm)"
   ]
  },
  {
   "cell_type": "code",
   "execution_count": null,
   "metadata": {},
   "outputs": [],
   "source": [
    "#3- Itertools products\n",
    "\n",
    "#https://www.hackerrank.com/challenges/itertools-product/problem?isFullScreen=true\n",
    "\n",
    "from itertools import product\n",
    "\n",
    "A = input().split(' ')\n",
    "A = [eval(i) for i in A]\n",
    "B = input().split(' ')\n",
    "B = [eval(i) for i in B]\n",
    "\n",
    "product = list(product(A, B))\n",
    "\n",
    "for i in product:\n",
    "    print(i, end=' ')"
   ]
  },
  {
   "cell_type": "code",
   "execution_count": null,
   "metadata": {},
   "outputs": [],
   "source": [
    "#4- Itertools replacement\n",
    "\n",
    "#https://www.hackerrank.com/challenges/itertools-combinations-with-replacement/problem?isFullScreen=true\n",
    "\n",
    "from itertools import combinations_with_replacement\n",
    "inp = input().split()\n",
    "tobecomp = sorted(inp[0])\n",
    "tobecompfinal = ''.join(tobecomp)\n",
    "result = list(combinations_with_replacement(tobecompfinal, int(inp[1])))\n",
    "for x in result:\n",
    "    comb = ''.join(x)\n",
    "    print(comb)"
   ]
  },
  {
   "cell_type": "markdown",
   "metadata": {},
   "source": [
    "Maths 4 exercises:\n",
    "1- Integers all size\n",
    "2- Mod divmod\n",
    "3- Mod power\n",
    "4- Polar cooridates"
   ]
  },
  {
   "cell_type": "code",
   "execution_count": null,
   "metadata": {},
   "outputs": [],
   "source": [
    "#1- Integers all size\n",
    "\n",
    "#https://www.hackerrank.com/challenges/python-integers-come-in-all-sizes/problem?isFullScreen=true\n",
    "\n",
    "a = int(input())\n",
    "b = int(input())\n",
    "c = int(input())\n",
    "d = int(input())\n",
    "\n",
    "print(int(pow(a,b)+ pow(c, d)))"
   ]
  },
  {
   "cell_type": "code",
   "execution_count": null,
   "metadata": {},
   "outputs": [],
   "source": [
    "#2- Mod divmod\n",
    "\n",
    "#https://www.hackerrank.com/challenges/python-mod-divmod/problem?isFullScreen=true\n",
    "\n",
    "a = int(input())\n",
    "b = int(input())\n",
    "print(int(a//b))\n",
    "print(int(a%b))\n",
    "print(divmod(a, b))"
   ]
  },
  {
   "cell_type": "code",
   "execution_count": null,
   "metadata": {},
   "outputs": [],
   "source": [
    "#3- Mod power\n",
    "\n",
    "#https://www.hackerrank.com/challenges/python-power-mod-power/problem?isFullScreen=true\n",
    "\n",
    "a = int(input())\n",
    "b = int(input())\n",
    "m = int(input())\n",
    "\n",
    "print(pow(a,b))\n",
    "print(pow(a,b,m))"
   ]
  },
  {
   "cell_type": "code",
   "execution_count": null,
   "metadata": {},
   "outputs": [],
   "source": [
    "#4- Polar coordinates \n",
    "\n",
    "#https://www.hackerrank.com/challenges/polar-coordinates/problem?isFullScreen=true\n",
    "\n",
    "complexnumber = complex(input())\n",
    "import cmath as cm \n",
    "phi = cm.phase(complexnumber)\n",
    "absnum = abs(complexnumber)\n",
    "print(absnum, '\\n', phi)"
   ]
  },
  {
   "cell_type": "markdown",
   "metadata": {},
   "source": [
    "Set 4 exercise:\n",
    "1- Introduction to sets\n",
    "2- Set add\n",
    "3- Set discard\n",
    "4- Symmetric difference"
   ]
  },
  {
   "cell_type": "code",
   "execution_count": null,
   "metadata": {},
   "outputs": [],
   "source": [
    "#1- Introduction to set\n",
    "\n",
    "#https://www.hackerrank.com/challenges/py-introduction-to-sets/problem?isFullScreen=true\n",
    "\n",
    "def average(array):\n",
    "    array = set(array)\n",
    "    result = '{:.3f}'.format((sum(array)/len(array)))\n",
    "    return result\n",
    "    \n",
    "if __name__ == '__main__':\n",
    "    n = int(input())\n",
    "    arr = list(map(int, input().split()))\n",
    "    result = average(arr)\n",
    "    print(result)"
   ]
  },
  {
   "cell_type": "code",
   "execution_count": null,
   "metadata": {},
   "outputs": [],
   "source": [
    "#2- Set add\n",
    "\n",
    "#https://www.hackerrank.com/challenges/py-set-add/problem?isFullScreen=true\n",
    "\n",
    "n = int(input())\n",
    "stamps = [input() for x in range(n)]\n",
    "stamps = set(stamps)\n",
    "counter = len(stamps)\n",
    "print(counter)\n"
   ]
  },
  {
   "cell_type": "code",
   "execution_count": null,
   "metadata": {},
   "outputs": [],
   "source": [
    "#3- Set discard\n",
    "\n",
    "#https://www.hackerrank.com/challenges/py-set-discard-remove-pop/problem?isFullScreen=true\n",
    "\n",
    "n = int(input())\n",
    "s = set(map(int, input().split()))\n",
    "ncmd = int(input())\n",
    "\n",
    "for x in range(ncmd):\n",
    "    command = input().split(' ')\n",
    "    if command[0] == 'pop':\n",
    "        s.pop()\n",
    "    if command[0] == 'discard':\n",
    "        s.discard(int(command[1]))\n",
    "    if command[0] == 'remove':\n",
    "        s.remove(int(command[1]))\n",
    "print(sum(s))"
   ]
  },
  {
   "cell_type": "code",
   "execution_count": null,
   "metadata": {},
   "outputs": [],
   "source": [
    "#4- Symmetric difference\n",
    "\n",
    "#https://www.hackerrank.com/challenges/symmetric-difference/problem?isFullScreen=true\n",
    "\n",
    "Msize = int(input())\n",
    "M=set([int(x) for x in input().split()])\n",
    "Nsize = int(input() )\n",
    "N=set([int(x) for x in input().split()])\n",
    "\n",
    "symdif = M.difference(N)\n",
    "symdif1 = N.difference(M)\n",
    "symdifu = symdif.union(symdif1)\n",
    "symdif = sorted(symdifu)\n",
    "\n",
    "for x in symdif:\n",
    "    print(x)\n",
    "   "
   ]
  },
  {
   "cell_type": "markdown",
   "metadata": {},
   "source": [
    "Strings 4 exercises:\n",
    "1- Mutations\n",
    "2- String split and join\n",
    "3- Swap case\n",
    "4- Whats your name"
   ]
  },
  {
   "cell_type": "code",
   "execution_count": null,
   "metadata": {},
   "outputs": [],
   "source": [
    "#1- Mutations\n",
    "\n",
    "#https://www.hackerrank.com/challenges/python-mutations/problem?isFullScreen=true\n",
    "\n",
    "def mutate_string(string, position, character):\n",
    "    string = string[:position] + character + string[position+1:]\n",
    "    return string\n",
    "\n",
    "if __name__ == '__main__':\n",
    "    s = input()\n",
    "    i, c = input().split()\n",
    "    s_new = mutate_string(s, int(i), c)\n",
    "    print(s_new)"
   ]
  },
  {
   "cell_type": "code",
   "execution_count": null,
   "metadata": {},
   "outputs": [],
   "source": [
    "#2- String split and join\n",
    "\n",
    "#https://www.hackerrank.com/challenges/python-string-split-and-join/problem?isFullScreen=true\n",
    "\n",
    "def split_and_join(line):\n",
    "    line = line.split(\" \")\n",
    "    line = \"-\".join(line)\n",
    "    return line\n",
    "\n",
    "if __name__ == '__main__':\n",
    "    line = input()\n",
    "    result = split_and_join(line)\n",
    "    print(result)"
   ]
  },
  {
   "cell_type": "code",
   "execution_count": null,
   "metadata": {},
   "outputs": [],
   "source": [
    "#3- Swap case\n",
    "\n",
    "#https://www.hackerrank.com/challenges/swap-case/problem?isFullScreen=true\n",
    "\n",
    "def swap_case(s):\n",
    "    s = str(s)\n",
    "    s = s.swapcase()\n",
    "    return s\n",
    "\n",
    "if __name__ == '__main__':\n",
    "    s = input()\n",
    "    result = swap_case(s)\n",
    "    print(result)"
   ]
  },
  {
   "cell_type": "code",
   "execution_count": null,
   "metadata": {},
   "outputs": [],
   "source": [
    "#4- Whats your name?\n",
    "\n",
    "#https://www.hackerrank.com/challenges/whats-your-name/problem?isFullScreen=true\n",
    "\n",
    "def print_full_name(first, last):\n",
    "    first = first\n",
    "    last = last\n",
    "    print(\"Hello\",first,last+\"!\",\"You just delved into python.\")\n",
    "\n",
    "if __name__ == '__main__':\n",
    "    first_name = input()\n",
    "    last_name = input()\n",
    "    print_full_name(first_name, last_name)"
   ]
  }
 ],
 "metadata": {
  "kernelspec": {
   "display_name": "Python 3.10.0 64-bit",
   "language": "python",
   "name": "python3"
  },
  "language_info": {
   "codemirror_mode": {
    "name": "ipython",
    "version": 3
   },
   "file_extension": ".py",
   "mimetype": "text/x-python",
   "name": "python",
   "nbconvert_exporter": "python",
   "pygments_lexer": "ipython3",
   "version": "3.10.0"
  },
  "orig_nbformat": 4,
  "vscode": {
   "interpreter": {
    "hash": "aee8b7b246df8f9039afb4144a1f6fd8d2ca17a180786b69acc140d282b71a49"
   }
  }
 },
 "nbformat": 4,
 "nbformat_minor": 2
}

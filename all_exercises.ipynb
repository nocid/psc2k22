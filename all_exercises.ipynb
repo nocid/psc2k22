{
 "cells": [
  {
   "cell_type": "markdown",
   "metadata": {},
   "source": [
    "https://www.hackerrank.com/challenges/collections-counter/problem?isFullScreen=true"
   ]
  },
  {
   "cell_type": "code",
   "execution_count": 4,
   "metadata": {},
   "outputs": [
    {
     "ename": "ValueError",
     "evalue": "invalid literal for int() with base 10: '10 2 3 4 5 6 8 7 6 5 18 6 6 55 6 45 6 55 4 40 18 60 10 50'",
     "output_type": "error",
     "traceback": [
      "\u001b[0;31m---------------------------------------------------------------------------\u001b[0m",
      "\u001b[0;31mValueError\u001b[0m                                Traceback (most recent call last)",
      "Cell \u001b[0;32mIn [4], line 2\u001b[0m\n\u001b[1;32m      1\u001b[0m \u001b[39mfrom\u001b[39;00m \u001b[39mcollections\u001b[39;00m \u001b[39mimport\u001b[39;00m Counter\n\u001b[0;32m----> 2\u001b[0m numshoes \u001b[39m=\u001b[39m \u001b[39mint\u001b[39;49m(\u001b[39minput\u001b[39;49m())\n\u001b[1;32m      3\u001b[0m shoesizes \u001b[39m=\u001b[39m [ \u001b[39mint\u001b[39m(x) \u001b[39mfor\u001b[39;00m x \u001b[39min\u001b[39;00m \u001b[39minput\u001b[39m()]\n\u001b[1;32m      4\u001b[0m numcustom \u001b[39m=\u001b[39m \u001b[39minput\u001b[39m()\n",
      "\u001b[0;31mValueError\u001b[0m: invalid literal for int() with base 10: '10 2 3 4 5 6 8 7 6 5 18 6 6 55 6 45 6 55 4 40 18 60 10 50'"
     ]
    }
   ],
   "source": [
    "from collections import Counter\n",
    "numshoes = int(input())\n",
    "shoesizes = input().split(' ')\n",
    "shoesizes = list(map(int, shoesizes))\n",
    "countersize = Counter(shoesizes)\n",
    "numcustom = input()\n",
    "salary = 0\n",
    "for x in input():\n",
    "    demande = input().split(' ')\n",
    "    demande = list(map(int, demande))\n",
    "    if demande[0] in countersize.keys():\n",
    "        countersize[demande[0]] -= 1\n",
    "        salary += demande[1]\n",
    "print(salary)\n",
    "\n"
   ]
  },
  {
   "cell_type": "code",
   "execution_count": null,
   "metadata": {},
   "outputs": [],
   "source": []
  }
 ],
 "metadata": {
  "kernelspec": {
   "display_name": "Python 3.10.0 64-bit",
   "language": "python",
   "name": "python3"
  },
  "language_info": {
   "codemirror_mode": {
    "name": "ipython",
    "version": 3
   },
   "file_extension": ".py",
   "mimetype": "text/x-python",
   "name": "python",
   "nbconvert_exporter": "python",
   "pygments_lexer": "ipython3",
   "version": "3.10.0"
  },
  "orig_nbformat": 4,
  "vscode": {
   "interpreter": {
    "hash": "aee8b7b246df8f9039afb4144a1f6fd8d2ca17a180786b69acc140d282b71a49"
   }
  }
 },
 "nbformat": 4,
 "nbformat_minor": 2
}

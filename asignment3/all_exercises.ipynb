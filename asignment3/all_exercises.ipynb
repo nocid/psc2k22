{
 "cells": [
  {
   "cell_type": "code",
   "execution_count": 6,
   "metadata": {},
   "outputs": [
    {
     "name": "stdout",
     "output_type": "stream",
     "text": [
      "Counter({'G': 249, 'T': 225, 'C': 219, 'A': 199, '\\n': 1})\n"
     ]
    }
   ],
   "source": [
    "#DNA\n",
    "#get sequence from file rosalind_dna.txt\n",
    "f = open('/Users/nocide51/Projects_Coding/psc2k22/asignment3/sequences/rosalind_dna.txt', 'r')\n",
    "dna = f.read()\n",
    "\n",
    "#get count of nucleotides\n",
    "from collections import Counter\n",
    "print(Counter(dna))"
   ]
  }
 ],
 "metadata": {
  "kernelspec": {
   "display_name": "Python 3.10.6 ('bioinformatics')",
   "language": "python",
   "name": "python3"
  },
  "language_info": {
   "codemirror_mode": {
    "name": "ipython",
    "version": 3
   },
   "file_extension": ".py",
   "mimetype": "text/x-python",
   "name": "python",
   "nbconvert_exporter": "python",
   "pygments_lexer": "ipython3",
   "version": "3.10.6"
  },
  "orig_nbformat": 4,
  "vscode": {
   "interpreter": {
    "hash": "fee94040681bba65a2a9b072a34f3035c29fcc436a8139ce1c49f0a1ccfba704"
   }
  }
 },
 "nbformat": 4,
 "nbformat_minor": 2
}

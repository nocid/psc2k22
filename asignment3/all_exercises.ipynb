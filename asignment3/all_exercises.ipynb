{
 "cells": [
  {
   "cell_type": "code",
   "execution_count": 29,
   "metadata": {},
   "outputs": [
    {
     "name": "stdout",
     "output_type": "stream",
     "text": [
      "199,219,249,225\n"
     ]
    },
    {
     "data": {
      "text/plain": [
       "15"
      ]
     },
     "execution_count": 29,
     "metadata": {},
     "output_type": "execute_result"
    }
   ],
   "source": [
    "#DNA\n",
    "#get sequence from file rosalind_dna.txt\n",
    "f = open('/Users/nocide51/Projects_Coding/psc2k22/asignment3/sequences/rosalind_dna.txt', 'r')\n",
    "dna = f.read()\n",
    "f.close()\n",
    "\n",
    "#get count of nucleotides\n",
    "from collections import Counter\n",
    "output = open('/Users/nocide51/Projects_Coding/psc2k22/asignment3/sequences/rosalind_dna_output.txt', 'w+')\n",
    "result = dict(Counter(dna))\n",
    "\n",
    "#print result directly to new file in rosalind format\n",
    "final = [result['A'], result['C'], result['G'], result['T']]\n",
    "final = ','.join(map(str, final))\n",
    "print(final)\n",
    "output.write(final)\n"
   ]
  },
  {
   "cell_type": "code",
   "execution_count": 32,
   "metadata": {},
   "outputs": [
    {
     "name": "stdout",
     "output_type": "stream",
     "text": [
      "UAUGCUAAUCCGAACGGCAACGUUUGUAACUUCUACAUAGCACCCCCCCAUAUUGAAGUGACGUGUCUCCCGUCUCUUAUCGGCGCCCAGCCCGAGGCAUAUGGCCGAGAAACCGUCCCAGAAUGUCCACGCAUAGGCCGUAUGAUCACGAUGUCCGGUCACGCUACAAGUGGUUAGCUUUUGCAAUCAAUUGGAGAAUCUAGGCAAGGUGGCUAAAGUUGGAUCCAGCUUAUGUCUUGUUUUCGCCGAUUUACCGUUCGUUGAGCAGAGUUGCCAAAUGCCUAUUAUGCGAGGCAUACUCUGCAUAUGUAGCCGUAUUUAGAUAGAAUCAUCAUGUCGGCAGUGCCCUACAAGCCAAACCGGCGAAAGAUCGCCUGCGCUCGCGGGGAUUGUACGGCGAACCAUAAGUCUAAGUCGAUGCGCAAAAUGUGCCCAGCUAACCCGUCUAGUUCUCUACACUUGCAGUUCAAUGGAGUCUUAGCUUAAAACAACGUCAAGAUUAAUGCGUUUUCCAGAGUUUCCCAGGCCCAAACUUUGGCCAUGAGACAACCGUGCAGUCUUGGAGCGCGUCACUGAAAACGCUCCCAUAAAAGUUAUACUGAAGAAUGCAAAUGUGCCUCCGUAGAGCGUGAGGUGUCGCUUAUUGCGGAGUUGGUGCCUAUAGGUGCCAACCUACUGGGCGCGGGGUCCAUCCCAUCUUAUGCGCUUGAUAUAGAUAAAGUACAGGAUGCAUUAAGAUUGAUCGGCGCACUGGAUGUUUUACAUUUAGAGCGUUAGGCACACUUUUCGGGCGGCUCUCCUUACCCAUUGAUACGCUUGUAUCCUUCGUAAUCUCUUCGCCUUGCCCACAGUACGAUGAACUUCCCACUGCUCACAGUCCGGUUGUCAACACCUCCACAGUCAGCGUUCCGAGACAUCCCCAAUGCACAUCUUUGCAUUAAAG\n",
      "\n"
     ]
    }
   ],
   "source": [
    "#RNA\n",
    "\n",
    "#get sequence from file\n",
    "f = open('/Users/nocide51/Projects_Coding/psc2k22/asignment3/sequences/rosalind_rna.txt', 'r')\n",
    "t = f.read()\n",
    "f.close()\n",
    "\n",
    "#import bio\n",
    "from Bio.Seq import Seq\n",
    "t = Seq(t)\n",
    "u = t.transcribe() #get transciption\n",
    "\n",
    "#print output to new file\n",
    "output = open('/Users/nocide51/Projects_Coding/psc2k22/asignment3/sequences/rosalind_rna_output.txt', 'w+')\n",
    "output.write(str(u))\n",
    "print(u)\n",
    "\n",
    "\n",
    "\n"
   ]
  },
  {
   "cell_type": "code",
   "execution_count": 38,
   "metadata": {},
   "outputs": [
    {
     "name": "stdout",
     "output_type": "stream",
     "text": [
      "\n",
      "CATAGCAAAACTGTCGTTAGCGGTTGGAAGAAACGCCTGCTCCATAGTAACTTTGCCGAATAGTAGTGTCCAAGTAGCATTGTCTTGCGAGTTAACGCTAGGCTGCCAAAATTTCTAAATATCTTGCAACAACAACGAGTGGATTAAACACTCCCAAACTGCAAGCCCTCTGGGAACCGTTAGTATGAGCTTGTACCACCAGACCGGCGCTCATACTGCGGCCTTATACGGTTCAATTACCGGAGGGTGTGCTTACCCCAAGCTAACCTGTCATCACCGATTAAGGCCGTCGTGAGATCACTTACCCAAGCAAGACTAATCTTTGGAATGGGAGGGGGATCAACCAACAGGTTTCGCCACAGAAGACCATCCGAGGTTAACAGGCCACCGACCCCCTCCCCCTGAACGTAACTCCGAGGCCGTGGTTGGCTTAAACGAGCCGTATCACGGACTACACCACCAGGTCCAACACCCAGCGGGGCAGACGGGCACCCGTAGCAGTCCGGGGCAGCTCTCCCCCGCGTTGGCAATATGCGAACCTACGGGCCGGCATAACATAACTAACCGGAATGTACGCGCACGGATTGTATGCATAGCTAAATGCTAAGGAGCTTAAAACAGTGCGGATTGTTTATAATGACAACCTTATCCTCCCGTGTATATCTAGTCTGGCTTTCAGCAAACCAGCTCTCGCATTCGAGGTCGTACTAACGGCTTATCCAAGTGAGGTATTCCACGTGCTCTCGAGAACTAACGGAGTCTAAGACTCAGTTCAAACCGCTCCATGCCAAGTGTAGTAGGTATTCCATGGAGTGAATTTCGTTATCACCCCTGAA\n"
     ]
    },
    {
     "data": {
      "text/plain": [
       "837"
      ]
     },
     "execution_count": 38,
     "metadata": {},
     "output_type": "execute_result"
    }
   ],
   "source": [
    "#revc\n",
    "\n",
    "from Bio.Seq import Seq\n",
    "import Bio.Seq\n",
    "#open file\n",
    "\n",
    "s = open('/Users/nocide51/Projects_Coding/psc2k22/asignment3/sequences/rosalind_revc.txt', 'r')\n",
    "dna = s.read()\n",
    "s.close()\n",
    "\n",
    "#reverse complement it using biopython\n",
    "dna = Seq(dna)\n",
    "result = dna.reverse_complement()\n",
    "print(result)\n",
    "\n",
    "#output to new file\n",
    "output = open('/Users/nocide51/Projects_Coding/psc2k22/asignment3/sequences/rosalind_revc_output.txt', 'w+')\n",
    "output.write(str(result))"
   ]
  }
 ],
 "metadata": {
  "kernelspec": {
   "display_name": "Python 3.10.6 ('bioinformatics')",
   "language": "python",
   "name": "python3"
  },
  "language_info": {
   "codemirror_mode": {
    "name": "ipython",
    "version": 3
   },
   "file_extension": ".py",
   "mimetype": "text/x-python",
   "name": "python",
   "nbconvert_exporter": "python",
   "pygments_lexer": "ipython3",
   "version": "3.10.6"
  },
  "orig_nbformat": 4,
  "vscode": {
   "interpreter": {
    "hash": "fee94040681bba65a2a9b072a34f3035c29fcc436a8139ce1c49f0a1ccfba704"
   }
  }
 },
 "nbformat": 4,
 "nbformat_minor": 2
}

{
 "cells": [
  {
   "cell_type": "code",
   "execution_count": 29,
   "metadata": {},
   "outputs": [
    {
     "name": "stdout",
     "output_type": "stream",
     "text": [
      "199,219,249,225\n"
     ]
    },
    {
     "data": {
      "text/plain": [
       "15"
      ]
     },
     "execution_count": 29,
     "metadata": {},
     "output_type": "execute_result"
    }
   ],
   "source": [
    "#DNA\n",
    "#get sequence from file rosalind_dna.txt\n",
    "f = open('/Users/nocide51/Projects_Coding/psc2k22/asignment3/sequences/rosalind_dna.txt', 'r')\n",
    "dna = f.read()\n",
    "f.close()\n",
    "\n",
    "#get count of nucleotides\n",
    "from collections import Counter\n",
    "output = open('/Users/nocide51/Projects_Coding/psc2k22/asignment3/sequences/rosalind_dna_output.txt', 'w+')\n",
    "result = dict(Counter(dna))\n",
    "\n",
    "#print result directly to new file in rosalind format\n",
    "final = [result['A'], result['C'], result['G'], result['T']]\n",
    "final = ','.join(map(str, final))\n",
    "print(final)\n",
    "output.write(final)\n"
   ]
  },
  {
   "cell_type": "code",
   "execution_count": 32,
   "metadata": {},
   "outputs": [
    {
     "name": "stdout",
     "output_type": "stream",
     "text": [
      "UAUGCUAAUCCGAACGGCAACGUUUGUAACUUCUACAUAGCACCCCCCCAUAUUGAAGUGACGUGUCUCCCGUCUCUUAUCGGCGCCCAGCCCGAGGCAUAUGGCCGAGAAACCGUCCCAGAAUGUCCACGCAUAGGCCGUAUGAUCACGAUGUCCGGUCACGCUACAAGUGGUUAGCUUUUGCAAUCAAUUGGAGAAUCUAGGCAAGGUGGCUAAAGUUGGAUCCAGCUUAUGUCUUGUUUUCGCCGAUUUACCGUUCGUUGAGCAGAGUUGCCAAAUGCCUAUUAUGCGAGGCAUACUCUGCAUAUGUAGCCGUAUUUAGAUAGAAUCAUCAUGUCGGCAGUGCCCUACAAGCCAAACCGGCGAAAGAUCGCCUGCGCUCGCGGGGAUUGUACGGCGAACCAUAAGUCUAAGUCGAUGCGCAAAAUGUGCCCAGCUAACCCGUCUAGUUCUCUACACUUGCAGUUCAAUGGAGUCUUAGCUUAAAACAACGUCAAGAUUAAUGCGUUUUCCAGAGUUUCCCAGGCCCAAACUUUGGCCAUGAGACAACCGUGCAGUCUUGGAGCGCGUCACUGAAAACGCUCCCAUAAAAGUUAUACUGAAGAAUGCAAAUGUGCCUCCGUAGAGCGUGAGGUGUCGCUUAUUGCGGAGUUGGUGCCUAUAGGUGCCAACCUACUGGGCGCGGGGUCCAUCCCAUCUUAUGCGCUUGAUAUAGAUAAAGUACAGGAUGCAUUAAGAUUGAUCGGCGCACUGGAUGUUUUACAUUUAGAGCGUUAGGCACACUUUUCGGGCGGCUCUCCUUACCCAUUGAUACGCUUGUAUCCUUCGUAAUCUCUUCGCCUUGCCCACAGUACGAUGAACUUCCCACUGCUCACAGUCCGGUUGUCAACACCUCCACAGUCAGCGUUCCGAGACAUCCCCAAUGCACAUCUUUGCAUUAAAG\n",
      "\n"
     ]
    }
   ],
   "source": [
    "#RNA\n",
    "\n",
    "#get sequence from file\n",
    "f = open('/Users/nocide51/Projects_Coding/psc2k22/asignment3/sequences/rosalind_rna.txt', 'r')\n",
    "t = f.read()\n",
    "f.close()\n",
    "\n",
    "#import bio\n",
    "from Bio.Seq import Seq\n",
    "t = Seq(t)\n",
    "u = t.transcribe() #get transciption\n",
    "\n",
    "#print output to new file\n",
    "output = open('/Users/nocide51/Projects_Coding/psc2k22/asignment3/sequences/rosalind_rna_output.txt', 'w+')\n",
    "output.write(str(u))\n",
    "print(u)\n",
    "\n",
    "\n",
    "\n"
   ]
  },
  {
   "cell_type": "code",
   "execution_count": 38,
   "metadata": {},
   "outputs": [
    {
     "name": "stdout",
     "output_type": "stream",
     "text": [
      "\n",
      "CATAGCAAAACTGTCGTTAGCGGTTGGAAGAAACGCCTGCTCCATAGTAACTTTGCCGAATAGTAGTGTCCAAGTAGCATTGTCTTGCGAGTTAACGCTAGGCTGCCAAAATTTCTAAATATCTTGCAACAACAACGAGTGGATTAAACACTCCCAAACTGCAAGCCCTCTGGGAACCGTTAGTATGAGCTTGTACCACCAGACCGGCGCTCATACTGCGGCCTTATACGGTTCAATTACCGGAGGGTGTGCTTACCCCAAGCTAACCTGTCATCACCGATTAAGGCCGTCGTGAGATCACTTACCCAAGCAAGACTAATCTTTGGAATGGGAGGGGGATCAACCAACAGGTTTCGCCACAGAAGACCATCCGAGGTTAACAGGCCACCGACCCCCTCCCCCTGAACGTAACTCCGAGGCCGTGGTTGGCTTAAACGAGCCGTATCACGGACTACACCACCAGGTCCAACACCCAGCGGGGCAGACGGGCACCCGTAGCAGTCCGGGGCAGCTCTCCCCCGCGTTGGCAATATGCGAACCTACGGGCCGGCATAACATAACTAACCGGAATGTACGCGCACGGATTGTATGCATAGCTAAATGCTAAGGAGCTTAAAACAGTGCGGATTGTTTATAATGACAACCTTATCCTCCCGTGTATATCTAGTCTGGCTTTCAGCAAACCAGCTCTCGCATTCGAGGTCGTACTAACGGCTTATCCAAGTGAGGTATTCCACGTGCTCTCGAGAACTAACGGAGTCTAAGACTCAGTTCAAACCGCTCCATGCCAAGTGTAGTAGGTATTCCATGGAGTGAATTTCGTTATCACCCCTGAA\n"
     ]
    },
    {
     "data": {
      "text/plain": [
       "837"
      ]
     },
     "execution_count": 38,
     "metadata": {},
     "output_type": "execute_result"
    }
   ],
   "source": [
    "#revc\n",
    "\n",
    "from Bio.Seq import Seq\n",
    "import Bio.Seq\n",
    "#open file\n",
    "\n",
    "s = open('/Users/nocide51/Projects_Coding/psc2k22/asignment3/sequences/rosalind_revc.txt', 'r')\n",
    "dna = s.read()\n",
    "s.close()\n",
    "\n",
    "#reverse complement it using biopython\n",
    "dna = Seq(dna)\n",
    "result = dna.reverse_complement()\n",
    "print(result)\n",
    "\n",
    "#output to new file\n",
    "output = open('/Users/nocide51/Projects_Coding/psc2k22/asignment3/sequences/rosalind_revc_output.txt', 'w+')\n",
    "output.write(str(result))"
   ]
  },
  {
   "cell_type": "code",
   "execution_count": 40,
   "metadata": {},
   "outputs": [
    {
     "name": "stdout",
     "output_type": "stream",
     "text": [
      "0.7342767295597484\n"
     ]
    }
   ],
   "source": [
    "#irpb\n",
    "#Given: Three positive integers k, m, and n, representing a population containing k+m+n organisms: \n",
    "# k individuals are homozygous dominant for a factor, m are heterozygous, and n are homozygous recessive.\n",
    "#Return: The probability that two randomly selected mating organisms will produce an individual possessing a dominant allele \n",
    "# (and thus displaying the dominant phenotype). Assume that any two organisms can mate.\n",
    "\n",
    "#get input\n",
    "inp = [int(x) for x in input('Enter k, m, n in order seperated by a space: ').split()]\n",
    "k = (inp[0]/sum) #homozygous dominant AA\n",
    "m = (inp[1]/sum) #heterozygous Aa\n",
    "m1 = ((inp[1])/(sum-1)) #heterozygous Aa second branch \n",
    "m2 = ((inp[1]-1)/(sum-1)) #heterozygous Aa second branch when first choice m\n",
    "n = (inp[2]/sum) #homozygous recessive aa\n",
    "n1 = ((inp[2]-1)/(sum-1)) #homozygous recessive aa second branch when first choice n\n",
    "n2 = ((inp[2])/(sum-1)) #homozygous recessive aa second branch\n",
    "sum = inp[0]+inp[1]+inp[2] #sum of all organisms\n",
    "\n",
    "#use inverted probability to have less to calculate\n",
    "probinv = (n*n1)+(n*m1*(2/4))+(m*m2*(1/4))+(m*(2/4)*n2)\n",
    "print(1-probinv)\n",
    "\n",
    "\n",
    "\n",
    "\n",
    "\n",
    "\n"
   ]
  },
  {
   "cell_type": "code",
   "execution_count": 70,
   "metadata": {},
   "outputs": [
    {
     "name": "stdout",
     "output_type": "stream",
     "text": [
      "{'Rosalind_1274': 50.272628135223556, 'Rosalind_0164': 49.8159509202454, 'Rosalind_8331': 50.31055900621118, 'Rosalind_1441': 51.28518971848225, 'Rosalind_5919': 48.708487084870846, 'Rosalind_5996': 53.76078914919852, 'Rosalind_2066': 49.71363115693013, 'Rosalind_7153': 48.030634573304155, 'Rosalind_8886': 47.607361963190186, 'Rosalind_6180': 45.42124542124542}\n"
     ]
    }
   ],
   "source": [
    "#gc\n",
    "\n",
    "#get input from sequence file\n",
    "f = open('/Users/nocide51/Projects_Coding/psc2k22/asignment3/sequences/rosalind_gc.txt', 'r')\n",
    "\n",
    "import Bio.Seq\n",
    "from Bio.Seq import Seq\n",
    "from Bio import SeqIO\n",
    "from Bio.SeqUtils import GC\n",
    "\n",
    "#create dict and read file + add id+GC% to dict\n",
    "allpercentages = {}\n",
    "parse = SeqIO.parse(f, 'fasta')\n",
    "for record in parse:\n",
    "    id = record.id\n",
    "    perc = GC(record.seq)\n",
    "    allpercentages[id] = float(perc)\n",
    "    \n",
    "print(allpercentages)\n",
    "\n",
    "#bugged lines\n",
    "#max_value = max(allpercentages, key=allpercentages.get)\n",
    "#print(max)\n",
    "#print(max_value)\n",
    "\n",
    "\n",
    "\n"
   ]
  },
  {
   "cell_type": "code",
   "execution_count": 134,
   "metadata": {},
   "outputs": [
    {
     "name": "stdout",
     "output_type": "stream",
     "text": [
      "3 149 167 210 259 320 369 415 433 448 478 512 549 656 712 727 760 798 826\n"
     ]
    }
   ],
   "source": [
    "#subs\n",
    "\n",
    "#import packages\n",
    "from Bio.Seq import Seq\n",
    "import re\n",
    "#get input and store it under s and t(substring)\n",
    "f = open('/Users/nocide51/Projects_Coding/psc2k22/asignment3/sequences/rosalind_subs.txt', 'r')\n",
    "dna = f.read().splitlines()\n",
    "f.close()\n",
    "s = dna[0]\n",
    "t = dna[1]\n",
    "s = str(s)\n",
    "t = str(t)\n",
    "#result = []\n",
    "\n",
    "#s = input()\n",
    "#t = input()\n",
    "result = []\n",
    "#for position in range(len(s)):\n",
    "    #if s[position:].startswith(t):\n",
    "        #result.append(position+1)\n",
    "\n",
    "\n",
    "#for match in re.finditer(t, s):\n",
    "    #print(match.span(), match.group())\n",
    "result = [(m.start())+1 for m in re.finditer(t, s)]\n",
    "#s.index(t)\n",
    "#print(t)\n",
    "#print(s)\n",
    "#rint(result)\n",
    "print(*result, sep=' ')\n"
   ]
  },
  {
   "cell_type": "code",
   "execution_count": 54,
   "metadata": {},
   "outputs": [
    {
     "name": "stdout",
     "output_type": "stream",
     "text": [
      "0.66\n"
     ]
    }
   ],
   "source": [
    "#lia\n",
    "\n",
    "#import packages\n",
    "from scipy.stats import binom\n",
    "\n",
    "#get input and create variables\n",
    "inpt = [int(item) for item in input().split()]\n",
    "k = int(inpt[0])\n",
    "n = int(inpt[1])\n",
    "p = int(2**k)\n",
    "result = 0\n",
    "#probAaBb = 0.25 no matter what the children genotype is:\n",
    "probAaBb = 0.25\n",
    "\n",
    "#\"at least\" so we have to add binomial mass probability from n to number of organism p of the k-th generation.\n",
    "for i in range(n, p+1):\n",
    "    prob = binom.pmf(i, p, probAaBb)\n",
    "    result += prob\n",
    "result = round(result, 3)\n",
    "print(result)"
   ]
  },
  {
   "cell_type": "code",
   "execution_count": 64,
   "metadata": {},
   "outputs": [
    {
     "name": "stdout",
     "output_type": "stream",
     "text": [
      "156004.0\n"
     ]
    }
   ],
   "source": [
    "#iev\n",
    "\n",
    "inpt = [int(item) for item in input().split()]\n",
    "AA_AA = inpt[0]\n",
    "AA_Aa = inpt[1]\n",
    "AA_aa = inpt[2]\n",
    "Aa_Aa = inpt[3]\n",
    "Aa_aa = inpt[4]\n",
    "aa_aa = inpt[5]\n",
    "dominant = 0\n",
    "for i in range(len(inpt)):\n",
    "    if i == 0  :\n",
    "        dominant += (2*inpt[i])\n",
    "    if i == 1:\n",
    "        dominant += (2*inpt[i])\n",
    "    if i == 2 :\n",
    "        dominant += (2*inpt[i]) #mauvaises probs pour Aa Aa car aa possible\n",
    "    if i == 3:\n",
    "        dominant += (inpt[i]*1.5)\n",
    "    if i == 4:\n",
    "        dominant += (inpt[i])\n",
    "    if i == 5:\n",
    "        break\n",
    "\n",
    "#change i and inpt[i], i ne marche pas car il imprime litéral i\n",
    "\n",
    "\n",
    "print(dominant)"
   ]
  },
  {
   "cell_type": "code",
   "execution_count": 68,
   "metadata": {},
   "outputs": [
    {
     "name": "stdout",
     "output_type": "stream",
     "text": [
      "CGGGGACAAGGGTTAGCTGCCGCTAAGTAATCGTACGCATATCGACCGGACCGTTGAAAACGCGGAGACTTGTGAGACCACGGGCTGCGACCTGCGATTGGATCCTGTGCCCGGCCACGCCGACCTATCGTATGTAAGAACCCTTTGCAAAAGCTCGCCACAAAGGTCGTTCCCTGTTAATGCCGTTATACCGTAGGTACTGGTAGACGTAGAGGGCAACCTAAGAATATAAACGATCTTCATCCCGTACTGTGTGCTTATAGCCTAGAAGCACATCTACTAGTACGTAATGGACACACCGGAGGCTTCAGAAAGAAACGACACTGCGGGAGGGATGTTTAAGACAGCTAAACTGTCAAAGCATTAGGCGCGAAATTTTATCTTATGATAACACCGTATTAACAGTTTGGGAAGGCTGTTACCGCCCTTCAGGACGTCTAGATCGAAGAGGTCTTCAAAGTAAAGGTGAGGCCGGCGCCGAGACGTGAATGCTTACTAGTGTTCTTTAGAGCCGCTGTCTGGCTGGTCCTACGATTCGTCTAGAAGAATTGTTTTCATGGCAATCGCGTAGCCCCGTCTTACTTACGCGAGAATTCACTTACAGCCAGCTCTCCAGGACATGCCATGTATTTAAACAGAGAAAACGGGTGGTGACCTGGTCTAAGCTAGTCTGGCCAGAACTCATATAAGAAAAACATTCAACTGTCTACACTCGGTATGTATCCGCAATCTTCCAGTATCTTGGTAGCGAATGCGCGTACATTATGAATCCGCGTCACTTGCGCGGATTCTATCGCGGGTTGGTTCAGTAAGATTTGGCGGAGCTGCTTCCATGCGGCTCCGGTCGGTGTCCTTGCGTGCGGTAGTTTTATTACACCGCAGCACGTCAGGATGTTTCCACCCTGTTAGACTTATGTTTACACGAAACACTAAA\n",
      "A: 1 1 3 0 1 4 2 7 3 4 1 2 3 2 4 3 3 2 3 1 3 2 3 1 4 4 2 3 5 4 1 0 1 3 4 3 3 3 4 1 5 2 3 2 4 2 0 2 3 4 3 3 2 4 3 3 5 4 4 5 1 2 0 3 2 3 4 4 1 1 2 1 1 1 3 1 4 2 1 5 2 2 2 3 2 2 1 1 0 3 1 0 2 2 2 3 5 2 2 2 3 6 2 2 1 0 2 3 3 3 2 2 1 1 2 2 3 2 0 1 1 1 3 2 3 3 4 1 2 2 3 5 2 1 0 4 3 2 3 3 2 2 0 3 1 1 2 1 4 5 3 4 2 1 2 2 3 2 2 6 0 5 4 4 3 2 1 2 3 2 2 0 4 1 1 3 1 2 7 4 0 2 3 0 2 3 1 4 2 4 3 3 2 2 5 1 4 4 3 3 4 1 2 1 4 1 6 3 1 3 5 0 4 4 4 2 1 4 5 3 0 3 6 6 2 4 4 3 4 3 4 4 5 3 1 3 2 2 2 0 2 4 1 2 3 0 3 0 4 2 4 3 3 1 2 2 3 2 0 5 2 5 3 3 3 3 4 2 5 4 3 1 4 1 3 2 0 3 3 0 0 5 2 2 5 3 2 2 4 4 3 2 2 6 3 6 0 3 3 2 1 2 5 2 2 3 1 1 1 4 2 4 5 6 2 4 4 3 2 1 4 3 3 2 4 3 2 1 1 3 4 2 1 2 3 3 2 3 2 1 3 6 2 4 1 4 2 3 3 3 3 4 1 1 1 1 2 5 4 3 2 2 5 2 2 4 1 2 1 3 2 3 4 5 3 2 3 1 2 3 2 2 3 2 4 3 2 4 2 4 4 3 5 2 2 2 2 3 1 1 4 4 2 4 2 1 3 2 2 2 3 7 4 1 1 2 1 3 2 3 4 2 3 2 3 3 2 1 3 2 4 1 3 5 1 3 0 3 2 4 1 5 2 3 1 5 4 4 3 2 3 1 3 2 2 2 4 3 4 1 2 4 4 4 2 1 3 1 4 2 1 1 1 2 1 2 2 3 2 3 6 2 5 2 1 1 2 4 5 2 2 3 0 2 4 3 0 6 3 2 2 3 2 1 3 0 2 4 0 6 2 2 3 1 3 1 3 3 2 2 2 2 1 0 1 3 4 2 2 2 5 2 2 4 3 2 3 2 2 2 2 4 3 4 4 3 3 3 3 3 1 2 3 1 2 2 4 2 3 1 2 4 3 3 2 2 1 2 2 4 1 3 2 1 2 3 1 2 3 3 4 2 2 1 4 3 2 1 0 4 1 6 5 2 2 2 3 0 1 0 3 3 4 1 3 2 4 2 0 2 3 2 2 0 4 2 2 4 3 5 3 2 1 2 4 1 2 3 5 1 3 1 4 5 4 1 4 2 6 1 5 4 6 4 1 2 1 1 3 1 1 2 4 4 2 3 3 3 3 2 4 2 5 3 2 2 2 3 2 4 1 2 1 1 0 3 6 3 4 4 0 3 2 4 3 3 4 3 6 2 4 4 3 6 4 3 4 3 2 3 3 4 2 2 1 3 3 3 4 3 5 2 2 2 3 1 3 4 3 4 1 5 2 0 1 3 1 3 4 2 3 3 3 1 1 5 3 2 3 1 2 1 3 2 2 2 4 1 3 0 4 4 3 2 2 2 3 2 2 3 3 5 2 2 4 2 1 4 4 3 1 1 1 2 2 4 2 5 1 1 3 3 1 2 1 2 2 4 2 2 2 3 4 2 2 2 2 2 1 3 3 0 2 2 3 3 1 3 2 3 5 5 2 4 2 2 0 3 3 1 2 2 5 3 3 1 1 1 2 1 0 1 4 2 3 3 3 3 3 3 2 1 3 2 3 4 0 3 2 2 2 0 1 1 2 3 2 1 3 2 3 3 2 2 5 1 0 3 4 1 4 3 2 4 4 5 2 2 2 3 4 1 2 5 2 1 1 3 5 2 2 5 3 1 2 1 2 1 3 3 1 1 2 0 1 4 0 4 3 5 3 3 2 4 1 3 0 1 0 5 3 4 3 3 4 5 4 3 4 2 2 3 3 5 \n",
      "C: 6 2 2 4 2 1 4 1 2 0 2 2 3 1 4 1 5 1 2 5 3 2 3 3 2 4 2 2 0 1 2 4 1 0 4 5 2 3 1 2 3 3 5 2 3 4 4 2 0 2 6 4 1 0 1 2 2 2 3 2 4 3 7 1 3 3 0 3 4 0 1 3 4 3 3 1 2 4 4 1 4 2 2 1 4 3 3 6 3 3 4 4 2 2 4 3 2 2 3 2 3 4 3 5 5 1 1 2 0 5 4 4 2 3 3 4 1 4 3 5 5 4 2 3 3 0 3 3 4 2 3 2 2 3 2 1 2 1 1 3 4 4 4 0 3 3 3 5 1 0 2 1 1 5 3 3 1 3 4 1 6 1 0 3 2 2 0 5 1 0 3 6 5 4 2 2 0 1 0 1 2 3 5 5 1 1 2 2 2 2 4 4 3 1 2 3 1 0 3 3 0 1 3 3 1 0 2 4 2 2 2 2 2 1 1 3 5 3 2 4 6 1 2 1 1 1 1 2 3 1 3 2 3 4 1 3 1 3 0 2 5 1 1 4 4 5 2 1 4 4 2 2 2 3 2 1 3 4 2 4 2 4 1 5 5 2 2 2 1 3 1 4 1 4 2 1 7 3 2 5 4 0 2 2 0 3 2 3 3 2 1 2 3 1 4 1 4 3 3 3 3 3 0 0 2 6 2 1 5 1 1 3 0 2 1 0 3 1 5 2 2 3 2 4 0 1 3 3 1 1 3 1 2 2 2 2 1 2 3 4 2 1 1 2 4 4 3 4 2 3 2 3 4 3 3 2 6 1 2 3 2 4 0 1 2 0 3 1 6 3 3 2 3 1 1 2 1 3 2 2 2 4 3 3 2 2 2 2 2 3 1 3 0 5 6 3 4 3 2 2 3 3 3 0 2 0 0 1 2 1 2 1 2 1 3 4 1 2 3 1 2 5 3 1 3 4 3 0 2 4 2 3 3 0 3 1 3 3 2 2 1 2 3 4 3 4 2 0 2 0 2 3 3 2 3 5 3 3 1 1 2 3 2 3 3 3 2 2 3 3 1 4 4 0 2 4 3 4 3 0 0 2 2 3 1 2 3 4 2 2 1 4 4 0 2 4 2 0 3 2 3 1 3 4 1 1 3 0 4 1 3 4 5 3 3 3 3 3 5 2 3 2 7 1 2 3 0 3 4 3 1 4 2 3 2 2 4 3 1 4 1 3 0 4 2 0 2 2 1 1 1 3 3 4 2 5 3 3 2 3 4 2 3 1 3 2 4 1 2 2 1 4 4 4 4 2 3 4 0 3 2 3 3 2 4 4 4 5 1 2 2 2 4 2 2 5 1 5 4 2 2 5 2 4 5 3 3 2 5 2 4 1 4 4 1 2 2 1 5 2 2 3 6 4 1 0 2 2 0 0 2 2 1 0 2 5 1 1 1 3 3 2 2 2 4 2 2 2 3 3 2 2 1 3 4 4 3 2 1 2 4 3 0 3 1 3 2 2 1 1 6 3 2 2 5 3 2 2 3 3 4 3 4 2 1 1 2 2 1 2 3 3 2 1 2 4 3 2 3 3 2 2 4 2 2 1 3 2 1 4 3 4 1 5 2 3 3 1 2 0 1 3 2 8 5 2 6 3 2 1 3 0 1 6 6 1 2 3 3 3 3 2 2 3 3 3 3 2 4 3 1 2 2 2 3 3 3 1 1 3 3 4 1 2 1 3 2 3 2 2 5 4 3 4 3 0 3 1 5 3 2 1 3 2 4 3 2 3 1 3 5 1 3 3 4 2 4 0 2 2 1 4 2 1 1 0 6 3 1 1 0 1 2 3 3 3 2 2 0 6 2 3 2 3 3 3 3 5 3 4 5 4 1 3 1 4 1 1 4 1 4 3 3 1 2 5 3 0 3 3 4 5 5 3 0 2 4 1 2 1 3 1 3 2 3 2 3 1 1 2 3 1 4 1 4 0 4 4 2 5 2 1 3 3 4 3 2 3 2 3 2 2 1 2 3 3 1 5 4 3 5 4 4 3 3 0 2 2 2 2 4 2 3 3 3 1 2 2 2 1 3 1 5 2 1 0 3 4 1 5 2 2 3 3 \n",
      "G: 1 6 4 4 4 3 2 1 2 6 5 4 0 3 1 5 1 2 3 3 1 5 1 2 1 0 4 1 3 3 2 4 6 0 1 0 4 3 3 1 1 2 1 4 1 1 3 4 6 3 1 0 4 1 3 4 2 3 2 3 3 3 1 3 3 3 5 3 2 4 1 4 1 3 3 6 2 2 1 2 2 3 3 4 2 0 5 0 4 2 1 4 3 3 2 3 2 0 2 4 3 0 1 2 4 4 5 2 4 1 3 2 4 3 3 2 3 0 4 4 3 4 2 3 2 1 1 3 2 3 0 2 1 5 3 1 2 6 3 2 2 0 3 2 3 1 3 3 1 4 2 4 4 1 2 3 5 2 2 1 1 2 3 3 5 5 2 2 4 2 0 3 1 2 2 3 3 2 2 3 3 4 1 3 6 2 3 1 2 2 2 2 5 2 1 5 5 2 2 3 2 5 3 3 2 6 1 1 5 1 0 5 3 4 5 3 3 2 1 3 3 2 1 3 5 4 3 0 3 2 1 4 1 1 6 2 2 2 2 3 2 3 1 3 2 2 3 4 0 2 0 4 2 5 3 4 2 0 4 0 2 1 4 1 1 1 1 4 2 1 4 3 2 3 2 3 1 1 3 3 0 2 6 3 2 2 3 2 1 2 3 4 4 3 0 1 3 2 1 2 4 3 2 5 3 0 3 3 2 2 7 2 3 1 4 4 2 3 2 4 2 1 3 1 2 4 2 5 5 4 0 5 4 5 2 1 6 1 0 1 2 1 6 1 2 1 3 0 2 1 3 2 3 2 4 3 0 2 2 2 3 2 2 2 3 2 4 4 3 3 2 4 3 2 3 2 3 3 3 3 2 2 1 1 3 1 3 1 3 2 2 2 2 0 1 5 0 2 2 3 1 1 3 4 3 4 3 1 4 6 4 0 2 5 5 2 3 3 0 1 3 3 2 4 2 2 3 4 2 2 1 4 4 2 3 3 2 3 2 1 4 3 2 1 3 1 3 5 2 4 4 2 2 1 2 2 2 2 3 6 1 3 2 2 4 5 2 5 2 3 6 2 4 5 4 1 3 1 3 5 3 6 1 3 5 3 3 1 2 2 4 2 1 4 1 2 2 2 3 3 3 2 2 2 3 4 2 3 5 1 4 1 1 4 1 2 4 0 1 2 3 4 1 1 5 4 2 2 0 1 2 2 3 2 2 3 2 4 2 1 2 1 6 1 2 5 3 2 2 3 6 2 1 1 1 1 1 0 4 5 2 1 2 0 3 5 4 5 2 3 6 2 2 3 1 4 2 1 2 1 2 3 2 1 1 2 4 2 8 0 4 2 1 2 1 2 3 2 1 3 3 1 1 5 1 3 2 4 4 1 2 3 1 3 3 4 3 3 2 3 1 3 1 2 3 4 3 2 3 1 1 3 2 0 2 3 3 4 2 3 0 2 1 1 3 5 4 5 1 4 4 2 4 2 2 2 1 3 3 3 2 0 3 3 4 3 3 2 4 0 1 2 6 5 5 2 2 3 3 0 3 1 1 3 2 3 0 2 1 3 1 2 2 2 2 2 1 1 2 2 3 3 3 2 5 1 2 2 4 1 1 1 3 1 3 5 0 1 0 4 3 1 3 2 1 4 0 2 1 3 2 2 3 1 1 2 3 1 2 1 2 1 0 3 3 2 1 4 0 5 4 1 1 4 3 4 1 5 3 3 2 1 2 2 2 0 4 1 3 2 2 3 4 2 3 1 3 4 1 0 2 3 3 5 3 3 3 1 2 1 1 3 1 1 2 4 2 7 4 4 2 0 4 4 2 3 2 1 6 1 3 2 4 1 2 2 4 4 4 1 4 4 0 4 1 3 5 2 2 1 3 2 3 0 4 3 3 5 1 2 1 3 3 4 2 1 4 7 1 4 0 0 3 2 4 3 3 6 1 4 2 4 4 3 2 4 3 2 1 1 2 3 0 2 2 2 1 3 4 1 1 5 3 1 2 4 3 1 2 3 5 2 3 4 1 2 2 2 1 1 2 4 1 2 4 2 3 3 5 2 2 0 1 0 0 5 4 1 4 3 3 2 1 3 3 2 2 2 3 0 3 3 3 0 \n",
      "T: 2 1 1 2 3 2 2 1 3 0 2 2 4 4 1 1 1 5 2 1 3 1 3 4 3 2 2 4 2 2 5 2 2 7 1 2 1 1 2 6 1 3 1 2 2 3 3 2 1 1 0 3 3 5 3 1 1 1 1 0 2 2 2 3 2 1 1 0 3 5 6 2 4 3 1 2 2 2 4 2 2 3 3 2 2 5 1 3 3 2 4 2 3 3 2 1 1 6 3 2 1 0 4 1 0 5 2 3 3 1 1 2 3 3 2 2 3 4 3 0 1 1 3 2 2 6 2 3 2 3 4 1 5 1 5 4 3 1 3 2 2 4 3 5 3 5 2 1 4 1 3 1 3 3 3 2 1 3 2 2 3 2 3 0 0 1 7 1 2 6 5 1 0 3 5 2 6 5 1 2 5 1 1 2 1 4 4 3 4 2 1 1 0 5 2 1 0 4 2 1 4 3 2 3 3 3 1 2 2 4 3 3 1 1 0 2 1 1 2 0 1 4 1 0 2 1 2 5 0 4 2 0 1 2 2 2 5 3 6 5 1 2 7 1 1 3 2 5 2 2 4 1 3 1 3 3 2 4 4 1 4 0 2 1 1 4 3 2 2 2 2 2 3 2 3 4 2 3 2 2 6 3 0 3 3 2 3 3 2 2 3 2 1 0 3 2 3 2 3 3 2 2 3 3 3 1 4 5 2 3 0 1 2 1 3 2 1 3 1 3 2 3 2 3 4 2 3 1 3 2 3 2 3 1 3 4 1 4 5 4 3 2 1 3 3 1 2 3 3 3 2 1 2 4 2 4 2 2 2 2 3 2 3 5 3 4 2 3 0 1 3 1 0 2 3 4 3 3 3 2 4 2 3 4 1 4 3 3 3 1 3 2 3 3 1 0 4 2 5 4 2 2 2 2 3 5 4 6 2 1 1 2 2 3 1 2 5 2 5 5 1 0 2 3 2 1 2 5 3 2 3 2 0 3 3 3 5 1 4 3 4 0 3 2 3 0 1 1 3 4 1 4 2 5 3 1 1 2 2 2 5 0 2 1 1 1 3 2 1 2 2 3 1 3 3 3 2 2 2 2 1 0 2 2 3 4 2 1 1 4 3 1 5 4 3 1 6 2 1 3 2 4 3 3 3 5 3 3 1 2 1 3 1 2 3 4 0 4 2 4 2 2 1 8 2 0 4 3 4 4 2 2 3 1 3 3 1 1 5 3 5 2 1 1 2 2 2 3 4 3 2 3 3 4 5 2 2 5 1 1 2 3 2 6 2 1 1 2 4 1 2 1 2 2 3 1 4 3 5 3 2 2 3 6 1 1 0 2 1 4 3 0 0 4 5 1 3 3 4 5 2 1 3 0 1 2 1 2 1 5 1 4 3 3 2 2 3 2 0 0 4 2 2 2 2 5 3 3 2 8 4 4 3 5 2 1 2 3 1 3 2 2 1 3 2 1 3 2 3 2 3 4 1 1 2 1 3 2 3 3 0 5 2 1 3 2 3 3 3 5 2 3 1 2 0 2 0 2 0 3 3 3 3 1 4 3 4 3 2 3 2 1 3 1 2 1 2 4 3 2 2 1 1 4 2 5 2 3 1 2 1 3 4 2 2 1 4 4 5 2 5 1 3 0 3 1 3 2 3 4 2 5 3 2 2 2 2 4 2 5 3 6 5 2 2 3 2 3 3 2 1 3 4 2 2 1 3 2 4 1 2 0 5 4 3 5 3 2 1 3 2 2 2 2 2 5 2 0 3 6 3 3 3 1 2 2 3 2 5 4 2 3 2 4 2 2 2 1 3 1 4 6 2 3 4 4 1 3 1 5 2 2 2 2 3 3 4 1 3 2 2 1 3 0 3 3 1 2 3 4 2 3 2 5 2 0 3 1 2 4 3 3 1 3 3 0 3 0 4 1 4 5 1 4 4 2 1 2 4 3 2 2 1 3 0 3 4 4 4 6 1 3 4 3 0 3 3 1 2 1 3 3 2 1 2 2 4 3 1 2 1 1 3 3 4 4 5 2 2 3 2 1 3 5 2 4 5 1 0 1 1 5 4 3 6 1 4 6 4 1 1 3 1 2 2 3 1 1 2 3 3 2 1 2 \n"
     ]
    }
   ],
   "source": [
    "#cons\n",
    "\n",
    "from Bio import SeqIO\n",
    "from collections import Counter\n",
    "import pandas as pd\n",
    "\n",
    "lst = []\n",
    "for x in SeqIO.parse('/Users/nocide51/Projects_Coding/psc2k22/asignment3/sequences/rosalind_cons.txt', 'fasta'):\n",
    "    lst.append(x.seq)\n",
    "\n",
    "lst_cnt = []\n",
    "for pos in range(len(lst[0])):\n",
    "    new_lst = []\n",
    "    for seq in lst:\n",
    "        new_lst.append(seq[pos])\n",
    "        \n",
    "    lst_cnt.append(Counter(new_lst))\n",
    "\n",
    "for pos in range(len(lst_cnt)):\n",
    "    print(lst_cnt[pos].most_common()[0][0], end='')\n",
    "\n",
    "print()\n",
    "\n",
    "dft = pd.DataFrame(lst_cnt, columns=['A', 'C', 'G', 'T']).fillna(0).T\n",
    "for symbol in ['A', 'C', 'G', 'T']:\n",
    "    print(symbol, end=': ')\n",
    "    dft.loc[symbol].apply(lambda row: print(int(row), end=' '))\n",
    "    print()"
   ]
  },
  {
   "cell_type": "code",
   "execution_count": 69,
   "metadata": {},
   "outputs": [
    {
     "name": "stdout",
     "output_type": "stream",
     "text": [
      "-57.654 -54.119 -51.453 -49.881 -49.318 -49.094 -49.900 -50.221 -51.342 -54.666 -56.402 -60.232 -64.489 -75.451 -83.738\n"
     ]
    }
   ],
   "source": [
    "#prob\n",
    "\n",
    "import math\n",
    "AT = 0 #\n",
    "GC = 0\n",
    "\n",
    "f = open('/Users/nocide51/Projects_Coding/psc2k22/asignment3/sequences/rosalind_prob.txt', 'r')\n",
    "for line in f: #first loop extracts the GC percentage\n",
    "    if line[0] != 'A' and line[0] != 'T' and line[0] != 'G' and line[0] != 'C':\n",
    "        nb = line.split()\n",
    "        GCperc = [float(nb[x]) for x in range(len(nb))]\n",
    "    for i in line: #second loop get the number of AT and GC in the DNA string\n",
    "        if i == 'A' or i == 'T':\n",
    "            AT += 1\n",
    "        elif i == 'G' or i == 'C':\n",
    "            GC += 1\n",
    "\n",
    "\n",
    "result = []\n",
    "for a in range(len(GCperc)): #uses the formula P=(1-GCperc/2)^nbAT*(GCperc/2)^nbGC\n",
    "    prob = math.log10((((1-GCperc[a])/2)**AT)*((GCperc[a]/2)**GC))\n",
    "    result.append('%0.3f' % prob)\n",
    "\n",
    "print(*result, sep = ' ')"
   ]
  }
 ],
 "metadata": {
  "kernelspec": {
   "display_name": "Python 3.10.6 ('bioinformatics')",
   "language": "python",
   "name": "python3"
  },
  "language_info": {
   "codemirror_mode": {
    "name": "ipython",
    "version": 3
   },
   "file_extension": ".py",
   "mimetype": "text/x-python",
   "name": "python",
   "nbconvert_exporter": "python",
   "pygments_lexer": "ipython3",
   "version": "3.10.8"
  },
  "orig_nbformat": 4,
  "vscode": {
   "interpreter": {
    "hash": "fee94040681bba65a2a9b072a34f3035c29fcc436a8139ce1c49f0a1ccfba704"
   }
  }
 },
 "nbformat": 4,
 "nbformat_minor": 2
}

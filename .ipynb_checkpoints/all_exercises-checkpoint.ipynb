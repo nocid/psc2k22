{
 "cells": [
  {
   "cell_type": "markdown",
   "metadata": {},
   "source": [
    "https://www.hackerrank.com/challenges/collections-counter/problem?isFullScreen=true"
   ]
  },
  {
   "cell_type": "code",
   "execution_count": null,
   "metadata": {},
   "outputs": [],
   "source": [
    "from collections import Counter\n",
    "numshoes = int(input())\n",
    "shoesizes = [ int() for x in input()]\n",
    "numcustom = input()\n",
    "sizewanted = []\n",
    "pricewanted = []\n",
    "for x in input():\n",
    "    unpacked = x.split(' ')\n",
    "    pricewanted.append(unpacked[1])\n",
    "    sizewanted.append(unpacked[0])\n"
   ]
  }
 ],
 "metadata": {
  "language_info": {
   "name": "python"
  },
  "orig_nbformat": 4
 },
 "nbformat": 4,
 "nbformat_minor": 2
}
